{
 "cells": [
  {
   "cell_type": "code",
   "execution_count": 4,
   "metadata": {},
   "outputs": [],
   "source": [
    "import numpy as np\n",
    "l = np.zeros(10)\n",
    "l[4]=1"
   ]
  },
  {
   "cell_type": "code",
   "execution_count": 5,
   "metadata": {},
   "outputs": [
    {
     "data": {
      "text/plain": [
       "array([0., 0., 0., 0., 1., 0., 0., 0., 0., 0.])"
      ]
     },
     "execution_count": 5,
     "metadata": {},
     "output_type": "execute_result"
    }
   ],
   "source": [
    "l"
   ]
  },
  {
   "cell_type": "code",
   "execution_count": 6,
   "metadata": {},
   "outputs": [],
   "source": [
    "l = l[::-1]"
   ]
  },
  {
   "cell_type": "code",
   "execution_count": 7,
   "metadata": {},
   "outputs": [
    {
     "data": {
      "text/plain": [
       "array([0., 0., 0., 0., 0., 1., 0., 0., 0., 0.])"
      ]
     },
     "execution_count": 7,
     "metadata": {},
     "output_type": "execute_result"
    }
   ],
   "source": [
    "l"
   ]
  },
  {
   "cell_type": "code",
   "execution_count": 9,
   "metadata": {},
   "outputs": [
    {
     "data": {
      "text/plain": [
       "array([[0, 1, 2],\n",
       "       [3, 4, 5],\n",
       "       [6, 7, 8]])"
      ]
     },
     "execution_count": 9,
     "metadata": {},
     "output_type": "execute_result"
    }
   ],
   "source": [
    "k = np.arange(9)\n",
    "k.reshape(3, 3)"
   ]
  },
  {
   "cell_type": "code",
   "execution_count": 11,
   "metadata": {},
   "outputs": [],
   "source": [
    "s = np.zeros((8, 8))"
   ]
  },
  {
   "cell_type": "code",
   "execution_count": 16,
   "metadata": {},
   "outputs": [
    {
     "name": "stdout",
     "output_type": "stream",
     "text": [
      "0 1 0 1 0 1 0 1\n",
      "1 0 1 0 1 0 1 0\n",
      "0 1 0 1 0 1 0 1\n",
      "1 0 1 0 1 0 1 0\n",
      "0 1 0 1 0 1 0 1\n",
      "1 0 1 0 1 0 1 0\n",
      "0 1 0 1 0 1 0 1\n",
      "1 0 1 0 1 0 1 0\n"
     ]
    }
   ],
   "source": [
    "s = [[str((i+j) % 2) for j in range(8)] for i in range(8)]\n",
    "s = '\\n'.join(' '.join(ln) for ln in s)\n",
    "print(s)"
   ]
  },
  {
   "cell_type": "code",
   "execution_count": 22,
   "metadata": {},
   "outputs": [],
   "source": [
    "def f(x = []):\n",
    "    r = np.sqrt(x[0]**2 + x[1]**2)\n",
    "    phi = np.arctan2(x[1], x[0])\n",
    "    return(r, phi)"
   ]
  },
  {
   "cell_type": "code",
   "execution_count": 23,
   "metadata": {},
   "outputs": [],
   "source": [
    "y = np.random.random((10, 2))"
   ]
  },
  {
   "cell_type": "code",
   "execution_count": 24,
   "metadata": {},
   "outputs": [
    {
     "data": {
      "text/plain": [
       "array([[0.72027528, 0.64289732],\n",
       "       [0.45110685, 0.19177596],\n",
       "       [0.97569761, 0.07369486],\n",
       "       [0.18936179, 0.65587473],\n",
       "       [0.01516473, 0.69448625],\n",
       "       [0.19652866, 0.9037839 ],\n",
       "       [0.10361977, 0.74608851],\n",
       "       [0.56438758, 0.51498343],\n",
       "       [0.37084041, 0.25420195],\n",
       "       [0.26362571, 0.08989812]])"
      ]
     },
     "execution_count": 24,
     "metadata": {},
     "output_type": "execute_result"
    }
   ],
   "source": [
    "y"
   ]
  },
  {
   "cell_type": "code",
   "execution_count": 25,
   "metadata": {},
   "outputs": [],
   "source": [
    "p = list(map(f, y))"
   ]
  },
  {
   "cell_type": "code",
   "execution_count": 26,
   "metadata": {},
   "outputs": [
    {
     "data": {
      "text/plain": [
       "[(0.9654602231466887, 0.7286958657688355),\n",
       " (0.49017895931817457, 0.40197494983108606),\n",
       " (0.9784767560405018, 0.07538728585289314),\n",
       " (0.6826635718420657, 1.2897233299489643),\n",
       " (0.6946517943636826, 1.548963897402425),\n",
       " (0.9249047855038113, 1.3566786955584713),\n",
       " (0.7532497067298238, 1.4327950754177896),\n",
       " (0.7640296278673662, 0.7396588506969718),\n",
       " (0.449601200341224, 0.6009112101533203),\n",
       " (0.2785322011210179, 0.328640559819917)]"
      ]
     },
     "execution_count": 26,
     "metadata": {},
     "output_type": "execute_result"
    }
   ],
   "source": [
    "p"
   ]
  },
  {
   "cell_type": "code",
   "execution_count": 27,
   "metadata": {},
   "outputs": [],
   "source": [
    "import matplotlib.pyplot as plt"
   ]
  },
  {
   "cell_type": "code",
   "execution_count": 28,
   "metadata": {},
   "outputs": [
    {
     "data": {
      "image/png": "[encoded data removed]",
      "text/plain": [
       "<Figure size 432x288 with 1 Axes>"
      ]
     },
     "metadata": {
      "needs_background": "light"
     },
     "output_type": "display_data"
    }
   ],
   "source": [
    "phi = np.arange(0, 2*np.pi, 0.001)\n",
    "x1 = [(1 + np.cos(_))*np.cos(_) for _ in phi]\n",
    "y1 = [(1 + np.cos(_))*np.sin(_) for _ in phi]\n",
    "x2 = [(2 + np.cos(_))*np.cos(_) for _ in phi]\n",
    "y2 = [(2 + np.cos(_))*np.sin(_) for _ in phi]\n",
    "plt.plot(x1, y1)\n",
    "plt.plot(x2, y2)\n",
    "plt.show()"
   ]
  },
  {
   "cell_type": "code",
   "execution_count": null,
   "metadata": {},
   "outputs": [],
   "source": []
  }
 ],
 "metadata": {
  "kernelspec": {
   "display_name": "Python 3",
   "language": "python",
   "name": "python3"
  },
  "language_info": {
   "codemirror_mode": {
    "name": "ipython",
    "version": 3
   },
   "file_extension": ".py",
   "mimetype": "text/x-python",
   "name": "python",
   "nbconvert_exporter": "python",
   "pygments_lexer": "ipython3",
   "version": "3.7.1"
  }
 },
 "nbformat": 4,
 "nbformat_minor": 2
}
